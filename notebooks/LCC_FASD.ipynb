{
 "cells": [
  {
   "cell_type": "code",
   "execution_count": 1,
   "metadata": {},
   "outputs": [
    {
     "name": "stdout",
     "output_type": "stream",
     "text": [
      "Main directories\t: ['faceantispoofingdata.py', 'CelebA_Spoof', '__pycache__', 'LCC_FASD', 'data.py', 'celeba_spoof.py', 'lcc_fasd.py']\n",
      "Dataset sub-directories\t: ['LCC_FASD_development', 'LCC_FASD_evaluation', 'LCC_FASD_training']\n",
      "Train set directory\t: ['real', 'spoof']\n"
     ]
    }
   ],
   "source": [
    "import os\n",
    "root = \"../datasets/\"\n",
    "input_dir = os.path.join(root,\"LCC_FASD\")\n",
    "train_dir = os.path.join(input_dir, 'LCC_FASD_training')\n",
    "val_dir = os.path.join(input_dir, 'LCC_FASD_development')\n",
    "test_dir = os.path.join(input_dir, 'LCC_FASD_evaluation')\n",
    "\n",
    "dataset_dir = [dir for dir in sorted(os.listdir(input_dir)) if os.path.isdir(os.path.join(input_dir, dir))]\n",
    "label_name = [subdir for subdir in sorted(os.listdir(train_dir)) if os.path.isdir(os.path.join(train_dir, subdir))]\n",
    "\n",
    "# Printing the directory informations\n",
    "print(f\"Main directories\\t: {os.listdir(root)}\")\n",
    "print(f\"Dataset sub-directories\\t: {dataset_dir}\")\n",
    "print(f\"Train set directory\\t: {label_name}\")"
   ]
  },
  {
   "cell_type": "code",
   "execution_count": 7,
   "metadata": {},
   "outputs": [
    {
     "name": "stdout",
     "output_type": "stream",
     "text": [
      "Dataset summary:\n",
      "\n",
      "       train   val  test\n",
      "real    1223   405   314\n",
      "spoof   7076  2543  7266\n"
     ]
    }
   ],
   "source": [
    "import glob\n",
    "import numpy as np\n",
    "import pandas as pd\n",
    "dir_dict = {'train': train_dir, 'val': val_dir, 'test': test_dir}\n",
    "case_count, img_disp, set_length  = {}, {}, {}\n",
    "\n",
    "for key, val in dir_dict.items():\n",
    "    case_count[key] = {}\n",
    "    img_disp[key] = {}\n",
    "    set_count = 0\n",
    "    \n",
    "    for label in label_name:\n",
    "        label_list = list(sorted(glob.glob(os.path.join(val, label, \"*.png\"))))\n",
    "        if len(label_list) == 0:\n",
    "          continue\n",
    "\n",
    "        case_count[key][label] = len(label_list)\n",
    "        set_count += len(label_list)\n",
    "        \n",
    "        select_img_id = np.random.randint(len(label_list)-1)\n",
    "        # print(select_img_id)\n",
    "        img_disp[key][label] = label_list[select_img_id]\n",
    "        \n",
    "    set_length[key] = set_count\n",
    "\n",
    "case_count_df = pd.DataFrame(case_count)\n",
    "img_disp_df = pd.DataFrame(img_disp)\n",
    "print(f\"Dataset summary:\\n\\n{case_count_df}\")"
   ]
  },
  {
   "cell_type": "code",
   "execution_count": null,
   "metadata": {},
   "outputs": [],
   "source": []
  }
 ],
 "metadata": {
  "kernelspec": {
   "display_name": "venv",
   "language": "python",
   "name": "python3"
  },
  "language_info": {
   "codemirror_mode": {
    "name": "ipython",
    "version": 3
   },
   "file_extension": ".py",
   "mimetype": "text/x-python",
   "name": "python",
   "nbconvert_exporter": "python",
   "pygments_lexer": "ipython3",
   "version": "3.10.12"
  }
 },
 "nbformat": 4,
 "nbformat_minor": 2
}
